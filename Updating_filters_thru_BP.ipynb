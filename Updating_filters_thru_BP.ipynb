{
  "nbformat": 4,
  "nbformat_minor": 0,
  "metadata": {
    "colab": {
      "provenance": [],
      "authorship_tag": "ABX9TyMX1F/EjtejSNgHwlGiX9jI",
      "include_colab_link": true
    },
    "kernelspec": {
      "name": "python3",
      "display_name": "Python 3"
    },
    "language_info": {
      "name": "python"
    }
  },
  "cells": [
    {
      "cell_type": "markdown",
      "metadata": {
        "id": "view-in-github",
        "colab_type": "text"
      },
      "source": [
        "<a href=\"https://colab.research.google.com/github/DivyaMeenaSundaram/Deep_Learning_Lab/blob/main/Updating_filters_thru_BP.ipynb\" target=\"_parent\"><img src=\"https://colab.research.google.com/assets/colab-badge.svg\" alt=\"Open In Colab\"/></a>"
      ]
    },
    {
      "cell_type": "code",
      "execution_count": 1,
      "metadata": {
        "colab": {
          "base_uri": "https://localhost:8080/"
        },
        "id": "el6jb8tMKrK9",
        "outputId": "51a6e982-106b-46bd-9e9b-d494494e7b1e"
      },
      "outputs": [
        {
          "output_type": "stream",
          "name": "stdout",
          "text": [
            "Initial Loss: 2.806756433470147\n",
            "Updated Loss: 0.13343994332929213\n",
            "Updated Filter:\n",
            " [[0.01750008 0.43033201]\n",
            " [0.44880447 0.29134854]]\n"
          ]
        }
      ],
      "source": [
        "import numpy as np\n",
        "\n",
        "# Step 1: Define input image (3x3) and target output\n",
        "image = np.array([[1, 2, 1],\n",
        "                   [0, 1, 2],\n",
        "                   [2, 1, 0]])\n",
        "\n",
        "target_output = np.array([[1, 2],\n",
        "                           [2, 1]])\n",
        "\n",
        "# Step 2: Initialize random filter (2x2)\n",
        "np.random.seed(42)\n",
        "filter_kernel = np.random.rand(2, 2)\n",
        "\n",
        "# Step 3: Convolution function\n",
        "def convolve(img, kernel):\n",
        "    \"\"\"Performs valid convolution between a 3x3 image and 2x2 kernel\"\"\"\n",
        "    output = np.zeros((2, 2))\n",
        "    for i in range(2):\n",
        "        for j in range(2):\n",
        "            output[i, j] = np.sum(img[i:i+2, j:j+2] * kernel)\n",
        "    return output\n",
        "\n",
        "# Step 4: Compute initial feature map\n",
        "output = convolve(image, filter_kernel)\n",
        "\n",
        "# Step 5: Compute loss (Mean Squared Error)\n",
        "def mse_loss(pred, target):\n",
        "    return np.mean((pred - target) ** 2)\n",
        "\n",
        "loss = mse_loss(output, target_output)\n",
        "\n",
        "# Step 6: Compute gradient (dL/dW)\n",
        "gradients = np.zeros_like(filter_kernel)\n",
        "for i in range(2):\n",
        "    for j in range(2):\n",
        "        gradients[i, j] = 2 * np.sum((output - target_output) * image[i:i+2, j:j+2]) / 4  # Chain rule\n",
        "\n",
        "# Step 7: Update filter using gradient descent\n",
        "learning_rate = 0.1\n",
        "filter_kernel -= learning_rate * gradients\n",
        "\n",
        "# Step 8: Compute new output and loss after update\n",
        "new_output = convolve(image, filter_kernel)\n",
        "new_loss = mse_loss(new_output, target_output)\n",
        "\n",
        "print(\"Initial Loss:\", loss)\n",
        "print(\"Updated Loss:\", new_loss)\n",
        "print(\"Updated Filter:\\n\", filter_kernel)\n"
      ]
    },
    {
      "cell_type": "code",
      "source": [
        "import numpy as np\n",
        "\n",
        "# Step 1: Define input image (3x3) and target output\n",
        "image = np.array([[1, 2, 1],\n",
        "                   [0, 1, 2],\n",
        "                   [2, 1, 0]])\n",
        "\n",
        "target_output = np.array([[1, 2],\n",
        "                           [2, 1]])\n",
        "\n",
        "# Step 2: Initialize random filter (2x2)\n",
        "np.random.seed(42)\n",
        "filter_kernel = np.random.rand(2, 2)\n",
        "\n",
        "# Step 3: Convolution function\n",
        "def convolve(img, kernel):\n",
        "    \"\"\"Performs valid convolution between a 3x3 image and 2x2 kernel\"\"\"\n",
        "    output = np.zeros((2, 2))\n",
        "    for i in range(2):\n",
        "        for j in range(2):\n",
        "            output[i, j] = np.sum(img[i:i+2, j:j+2] * kernel)\n",
        "    return output\n",
        "\n",
        "# Step 4: Compute Mean Squared Error loss\n",
        "def mse_loss(pred, target):\n",
        "    return np.mean((pred - target) ** 2)\n",
        "\n",
        "# Training loop for multiple iterations\n",
        "learning_rate = 0.1\n",
        "num_iterations = 10\n",
        "\n",
        "for iteration in range(num_iterations):\n",
        "    # Compute feature map\n",
        "    output = convolve(image, filter_kernel)\n",
        "\n",
        "    # Compute loss\n",
        "    loss = mse_loss(output, target_output)\n",
        "\n",
        "    # Compute gradient (dL/dW)\n",
        "    gradients = np.zeros_like(filter_kernel)\n",
        "    for i in range(2):\n",
        "        for j in range(2):\n",
        "            gradients[i, j] = 2 * np.sum((output - target_output) * image[i:i+2, j:j+2]) / 4  # Chain rule\n",
        "\n",
        "    # Update filter using gradient descent\n",
        "    filter_kernel -= learning_rate * gradients\n",
        "\n",
        "    print(f\"Iteration {iteration+1}: Loss = {loss}\")\n",
        "\n",
        "# Final updated filter\n",
        "print(\"Updated Filter:\\n\", filter_kernel)\n"
      ],
      "metadata": {
        "colab": {
          "base_uri": "https://localhost:8080/"
        },
        "id": "fRMM2etuK9qZ",
        "outputId": "12aac546-0193-4089-ba98-45c0d2f97963"
      },
      "execution_count": 2,
      "outputs": [
        {
          "output_type": "stream",
          "name": "stdout",
          "text": [
            "Iteration 1: Loss = 2.806756433470147\n",
            "Iteration 2: Loss = 0.13343994332929213\n",
            "Iteration 3: Loss = 0.08700468787655283\n",
            "Iteration 4: Loss = 0.06365044833742013\n",
            "Iteration 5: Loss = 0.04665387773998236\n",
            "Iteration 6: Loss = 0.0342376249141862\n",
            "Iteration 7: Loss = 0.025163498876980828\n",
            "Iteration 8: Loss = 0.01852886611869977\n",
            "Iteration 9: Loss = 0.013675331471486415\n",
            "Iteration 10: Loss = 0.010122541172529635\n",
            "Updated Filter:\n",
            " [[0.03657673 0.25244035]\n",
            " [0.58689807 0.5030603 ]]\n"
          ]
        }
      ]
    }
  ]
}